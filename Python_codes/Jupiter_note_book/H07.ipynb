{
 "cells": [
  {
   "cell_type": "markdown",
   "id": "80743ee1",
   "metadata": {},
   "source": [
    "## Homework H07\n",
    "\n",
    "L13, L14"
   ]
  },
  {
   "cell_type": "markdown",
   "id": "eb580ae1",
   "metadata": {},
   "source": [
    "\\\n",
    "**Problem 1: 2 marks**\n",
    "  \n",
    "A class holds 18 students.  Their IDs are: 275 382 183 295 567 105 396 273 185 238 109 189 204 335 375 491 376 266\n",
    "  \n",
    "Create a vector, `ids`, to hold those IDs; another vector, `con_group`, to hold the IDs of those student assigned to the control group; similarly for `exp_group`.  (Make all of these vectors hold *int32* elements).\n",
    "  \n",
    "Use a random generator to assign each student into either the control group or the experimental group for an upcoming study.  *Seed* the random number generator (sometimes abbreviated to RNG) with the value 12345.\n",
    "  \n",
    "Print out the contents of `con_group` and `exp_group`."
   ]
  },
  {
   "attachments": {
    "image.png": {
     "image/png": "[encoded data removed]"
    }
   },
   "cell_type": "markdown",
   "id": "56c3c38a",
   "metadata": {},
   "source": [
    "\\\n",
    "\\\n",
    "**Problem 2: 2 marks**\n",
    "\\\n",
    "As a reminder, here is the Truth Table for the *and* operator:\n",
    "\n",
    "![image.png](attachment:image.png)\n",
    "\n",
    "Draw the Truth Table for the *xor* operator.  Its output is True if either input is True, but not both.  (No need to write a program.  Just draw the answer)"
   ]
  },
  {
   "cell_type": "markdown",
   "id": "c2540c44",
   "metadata": {},
   "source": [
    "\\\n",
    "\\\n",
    "**Problem 3: 2 marks**\n",
    "\\\n",
    "\\\n",
    "Consider the Python expression:\n",
    "```\n",
    "    if (x > 3 and x < 5) or (y == 3 or y == 4):\n",
    "```\n",
    "\n",
    "Write out the Truth Table for this expression.  Steps:\n",
    "\n",
    "* Define A as \"x > 3\", B as \"x < 5\", C as \"y == 3\" and D as \"y == 4\".  Then we want the Truth Table for (A and B) or (C or D).  \n",
    "* Our final Truth Table will have 16 rows - one for each permutation of True and False for each combination of False and True for expressions A, B, C and D.\n",
    "* Create a Truth Table with 16 rows and 7 columns.  Mark the columns: A, B, C, D, (A and B), (C or D), respectively.  \n",
    "* Fill in the 16 permutations for A, B, C and D.\n",
    "* Calculate column (A and B).  \n",
    "* Calculate column (C or D)\n",
    "* Combine columns (A and B) and (C or D) to yield the final answer"
   ]
  },
  {
   "cell_type": "markdown",
   "id": "e9850252",
   "metadata": {},
   "source": [
    "\\\n",
    "\\\n",
    "**Problem 4: 2 marks**\n",
    "\\\n",
    "You are working on an automatic braking system for a car.  The car measures the gap to the one ahead.  If that gap drops below some threshold, then the system will apply the brakes. \n",
    "\\\n",
    "\\\n",
    "Suppose car A is driving erratically, accelerating and decelerating randomly.  Whilst car B, starting 300 feet ahead, maintains a steady speed.  If the gap drops below 240 feet, apply the brakes.  \n",
    "\\\n",
    "Use a random number generator to provide integer values between -25 and +22 to add to the last gap.  This happens once every second.  So long as the gap exceeds 240 ft, print \"keep driving\".  If it drops below 240 ft, print \"brake\" and stop the simulation.\n",
    "\\\n",
    "\\\n",
    "*Seed* the RNG with 123456.  Your simulation should end up braking at 4 seconds in.  The program's output should look like this:\n",
    "```\n",
    "Time 0: gap=300: keep driving\n",
    "Time 1: gap=293: keep driving\n",
    "Time 2: gap=269: keep driving\n",
    "Time 3: gap=255: keep driving\n",
    "Time 4: gap=230: brake\n",
    "```"
   ]
  },
  {
   "cell_type": "markdown",
   "id": "8d196edd",
   "metadata": {},
   "source": [
    "\\\n",
    "\\\n",
    "**Problem 5: 2 marks**\n",
    "\\\n",
    "Work out the result of the following (horrible) expression.  Show your working.  (Check back for the full PEMDAS table in L14)\n",
    "```\n",
    "speed = 23           # mph\n",
    "height = 42          # ft\n",
    "color = \"red\"        # like it says\n",
    "temp = 212           # Fahrenheit\n",
    "\n",
    "if speed+3 > 20 and 2*height < 80 or not (color == \"blue\" or color == \"red\" and temp > 100):\n",
    "    print(\"True\")\n",
    "else:\n",
    "    print(\"False\")\n",
    "```"
   ]
  },
  {
   "cell_type": "markdown",
   "id": "e856e8e2",
   "metadata": {},
   "source": [
    "\\\n",
    "\\\n",
    "**Problem 6: BONUS: 4 marks**\n",
    "\\\n",
    "Create a function called `die` that simulates rolling a 6-sided die.  Each time it is called, it should return a number between 1 and 6 (inclusive)\n",
    "\\\n",
    "\\\n",
    "*Seed* your RNG with the value 2222.\n",
    "\\\n",
    "\\\n",
    "Call `die` 1000 times, storing the result of each throw into a numpy vector called `vec`.  Ensure that the element type in `vec` is numpy.int32.\n",
    "\\\n",
    "\\\n",
    "Print the following values:\n",
    "\n",
    "* vec[0]\n",
    "* vec[999]\n",
    "* The average of all the values in `vec`\n",
    "\n",
    "Repeat the calculation with 1000000 (1 million) *throws* of your Monte Carlo die.  Avoid repeating your code (DRY : \"Don't Repeat Yourself\").  Perhaps define a second function that takes, as its parameter, the number of throws you want?"
   ]
  },
  {
   "cell_type": "code",
   "execution_count": null,
   "id": "b2f34519",
   "metadata": {},
   "outputs": [],
   "source": []
  }
 ],
 "metadata": {
  "kernelspec": {
   "display_name": "Python 3 (ipykernel)",
   "language": "python",
   "name": "python3"
  },
  "language_info": {
   "codemirror_mode": {
    "name": "ipython",
    "version": 3
   },
   "file_extension": ".py",
   "mimetype": "text/x-python",
   "name": "python",
   "nbconvert_exporter": "python",
   "pygments_lexer": "ipython3",
   "version": "3.9.13"
  }
 },
 "nbformat": 4,
 "nbformat_minor": 5
}
