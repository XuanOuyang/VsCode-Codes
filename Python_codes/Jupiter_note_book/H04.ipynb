{
 "cells": [
  {
   "cell_type": "markdown",
   "metadata": {},
   "source": [
    "# Homework H04\n",
    "\n",
    "L08"
   ]
  },
  {
   "cell_type": "markdown",
   "metadata": {},
   "source": [
    "\\\n",
    "\\\n",
    "**Problem 1:**\n",
    "\\\n",
    "A vehicle travels along a road, according to the formula:\n",
    "\\\n",
    "\\\n",
    "$d$ = 3.1 $t^{1.1}$ + 4.9 $t^{0.3}$\n",
    "\\\n",
    "\\\n",
    "where $d$ is the distance travelled in metres, and $t$ is the time in seconds.\n",
    "\\\n",
    "Write a Python function to calculate $d$ for any given value of $t$.\n",
    "\\\n",
    "Write a *for* loop to print $t$ and $d$ for $t$ in the range 0 up to 1.5 seconds inclusive, in steps of 0.1 seconds."
   ]
  },
  {
   "cell_type": "markdown",
   "metadata": {},
   "source": [
    "\\\n",
    "\\\n",
    "**Problem 2:**\n",
    "\\\n",
    "Steel has a density of 7.8 grams/cubic-centimeter.  The moment-of-inertia, $I$, of a sphere is $I$ = 2/5 $m$ $r^2$, where $m$ is the mass of the sphere, and $r$ its radius.   Calculate the moment-of-inertia of steel spheres, for radii in the range 1 thru 4 centimeters (inclusive).  Print the result showing the radius, and corresponding $I$ as a float, correct to 1 decimal place (*not* in scientific notation).  Use grams and centimeter units."
   ]
  },
  {
   "cell_type": "markdown",
   "metadata": {},
   "source": [
    "\\\n",
    "\\\n",
    "**Problem 3:**\n",
    "\\\n",
    "1 metre = 3.28 feet.  Print a table showing feet (in the range 1 thru 15), and corresponding size in metres.  \n",
    "\n",
    "* Print feet as an integer in a field width of 4\n",
    "* Print metres as a float with 2 decimal places in a field width of 10\n",
    "* Also print a header for the two columns, aligned with the numbers below.\n",
    "\n",
    "The first few entries of your answer should look like this:\n",
    "\n",
    "```\n",
    "feet      metres\n",
    "   0        0.00\n",
    "   1        0.30\n",
    "   2        0.61\n",
    "```"
   ]
  },
  {
   "cell_type": "markdown",
   "metadata": {},
   "source": [
    "\\\n",
    "\\\n",
    "**Problem 4:** \n",
    "\\\n",
    "Use a *for* loop to calculate the sum of the first 10 odd numbers, and print the result."
   ]
  },
  {
   "cell_type": "markdown",
   "metadata": {},
   "source": [
    "\\\n",
    "\\\n",
    "**Problem 5:**\n",
    "\\\n",
    "The first few elements contain the following number of protons and neutrons:\n",
    "\n",
    "| Element   | Protons | Neutrons |\n",
    "| :-------- | :-----: | :------: |\n",
    "| Hydrogen  |    1    |    0     |\n",
    "| Helium    |    2    |    2     |\n",
    "| Lithium   |    3    |    4     |\n",
    "| Beryllium |    4    |    5     |\n",
    "| Boron     |    5    |    6     |\n",
    "| Carbon    |    6    |    6     |\n",
    "| Nitrogen  |    7    |    7     |\n",
    "\n",
    "Define each row in the table above as a Tuple.  Gather each Tuple into a List.  Write a *for* loop that calculates the **mass number** of each element (protons + neutrons).  Print out the results as a table giving Element, Protons, Neutrons, MassNumber.  Use f-strings to print a pretty table, which starts something like this:\n",
    "```\n",
    "Element   Protons Neutrons MassNum\n",
    "========= ======= ======== =======\n",
    "Hydrogen        1        0       1\n",
    "Helium          2        2       4\n",
    "```"
   ]
  },
  {
   "cell_type": "code",
   "execution_count": null,
   "metadata": {},
   "outputs": [],
   "source": []
  }
 ],
 "metadata": {
  "kernelspec": {
   "display_name": "Python 3 (ipykernel)",
   "language": "python",
   "name": "python3"
  },
  "language_info": {
   "codemirror_mode": {
    "name": "ipython",
    "version": 3
   },
   "file_extension": ".py",
   "mimetype": "text/x-python",
   "name": "python",
   "nbconvert_exporter": "python",
   "pygments_lexer": "ipython3",
   "version": "3.9.6"
  }
 },
 "nbformat": 4,
 "nbformat_minor": 1
}
