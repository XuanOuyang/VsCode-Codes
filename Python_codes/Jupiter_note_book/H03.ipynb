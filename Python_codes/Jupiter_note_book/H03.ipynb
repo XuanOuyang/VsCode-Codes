{
 "cells": [
  {
   "cell_type": "markdown",
   "metadata": {},
   "source": [
    "# Homework H03\n",
    "\n",
    "L06, L07"
   ]
  },
  {
   "cell_type": "markdown",
   "metadata": {},
   "source": [
    "\\\n",
    "\\\n",
    "**Problem 1:**\n",
    "\\\n",
    "In lab you have a container holding 0.5 moles of nitrogen gas. You can change the volume of the container while holding the temperature constant at 293 K. You start the volume at 10.0 L and decrease it by 1.0 L until you get down to 1.0 L, measuring the pressure at each volume:\n",
    "\n",
    "|Volume (L)|Pressure (atm)|\n",
    "| :--: | :--: |\n",
    "|10.0|1.203|\n",
    "|9.0|1.333|\n",
    "|8.0|1.504|\n",
    "|7.0|1.720|\n",
    "|6.0|1.998|\n",
    "|5.0|2.407|\n",
    "|4.0|3.010|\n",
    "|3.0|3.999|\n",
    "|2.0|6.011|\n",
    "|1.0|12.021|\n",
    "\n",
    "Create a plot of pressure versus volume. Add labels for the x and y axes, and an appropriate title."
   ]
  },
  {
   "cell_type": "code",
   "execution_count": null,
   "metadata": {},
   "outputs": [],
   "source": [
    "import matplotlib.pyplot as plt\n",
    "\n",
    "# Data\n",
    "volume = [10.0, 9.0, 8.0, 7.0, 6.0, 5.0, 4.0, 3.0, 2.0, 1.0]\n",
    "pressure = [1.203, 1.333, 1.504, 1.720, 1.998, 2.407, 3.010, 3.999, 6.011, 12.021]\n",
    "\n",
    "plt.figure(figsize=(8, 6))\n",
    "plt.plot(volume, pressure, marker='o', linestyle='-')\n",
    "plt.xlabel('Volume (L)')\n",
    "plt.ylabel('Pressure (atm)')\n",
    "plt.title('Pressure vs. Volume for Nitrogen Gas at 293 K')\n",
    "plt.grid(True)\n",
    "\n",
    "plt.show()\n"
   ]
  },
  {
   "cell_type": "markdown",
   "metadata": {},
   "source": [
    "\\\n",
    "\\\n",
    "**Problem 2:** \n",
    "\\\n",
    "In lab you shine a beam of light, in air, onto several different substances and use Snell's law ($n_{1}sin\\theta_{1} = n_{2}sin\\theta_{2}$) to calculate their refractive index. Define a function to calculate a substance's refractive index ($n_2$), given its input and refracted angle.  (Assume air's refractive index is 1.0003)  Calculate the refractive index ($n_{2}$) for each substance, from the table below, and print the result, rounded to 3 decimal digits.  Include comments in your Python code to explain what's going on.\n",
    "\n",
    "|$\\theta_1$ (degrees)|$\\theta_2$ (degrees)|\n",
    "| :-: | :-: |\n",
    "|32|23|  \n",
    "|35|22|\n",
    "|41|18|"
   ]
  },
  {
   "cell_type": "code",
   "execution_count": 2,
   "metadata": {},
   "outputs": [
    {
     "name": "stdout",
     "output_type": "stream",
     "text": [
      "Substance 1: Refractive Index (n2) = 1.357\n",
      "Substance 2: Refractive Index (n2) = 1.532\n",
      "Substance 3: Refractive Index (n2) = 2.124\n"
     ]
    }
   ],
   "source": [
    "import math\n",
    "\n",
    "def calculate_refractive_index(angle_in_degrees, angle_out_degrees, air_refractive_index=1.0003):\n",
    "    # Convert angles from degrees to radians\n",
    "    angle_in_radians = math.radians(angle_in_degrees)\n",
    "    angle_out_radians = math.radians(angle_out_degrees)\n",
    "\n",
    "    # Calculate the refractive index using Snell's law\n",
    "    refractive_index = air_refractive_index * math.sin(angle_in_radians) / math.sin(angle_out_radians)\n",
    "\n",
    "    return refractive_index\n",
    "\n",
    "# Provided data\n",
    "input_angles_degrees = [32, 35, 41]\n",
    "refracted_angles_degrees = [23, 22, 18]\n",
    "\n",
    "# Calculate and print the refractive index for each substance\n",
    "for i in range(len(input_angles_degrees)):\n",
    "    n2 = calculate_refractive_index(input_angles_degrees[i], refracted_angles_degrees[i])\n",
    "    print(f\"Substance {i + 1}: Refractive Index (n2) = {n2:.3f}\")\n"
   ]
  },
  {
   "cell_type": "markdown",
   "metadata": {},
   "source": [
    "\\\n",
    "\\\n",
    "**Problem 3:**\n",
    "\\\n",
    "Consider the following list of numbers: L = [3, 2, 4, 9, 8, 6, 6, 4, 1, 0, 5]  \n",
    "Write a Python expression that yields the following results:\n",
    "\n",
    "* [3, 2, 4]\n",
    "* 9\n",
    "* [9]\n",
    "* [5]\n",
    "* [4, 1, 0, 5]\n",
    "* [4, 1, 0]\n",
    "* [2, 4, 4, 1]\n",
    "* [5, 0, 1]\n",
    "* [6, 6, 6, 6, 6]\n",
    "* [2, 9, 6, 4]\n",
    "\n",
    "Use indexing, slicing and concatenation.  (Write your answers in a Python code frame) "
   ]
  },
  {
   "cell_type": "code",
   "execution_count": null,
   "metadata": {},
   "outputs": [],
   "source": [
    "L = [3, 2, 4, 9, 8, 6, 6, 4, 1, 0, 5]\n",
    "\n",
    "# [3, 2, 4]\n",
    "result1 = L[:3]\n",
    "\n",
    "# 9\n",
    "result2 = L[3]\n",
    "\n",
    "# [9]\n",
    "result3 = [L[3]]\n",
    "\n",
    "# [5]\n",
    "result4 = [L[-1]]\n",
    "\n",
    "# [4, 1, 0, 5]\n",
    "result5 = L[-6:]\n",
    "\n",
    "# [4, 1, 0]\n",
    "result6 = L[-7:-4]\n",
    "\n",
    "# [2, 4, 4, 1]\n",
    "result7 = L[1:5] + L[7:8] + L[8:9] + L[-3:-2]\n",
    "\n",
    "# [5, 0, 1]\n",
    "result8 = L[-1:] + L[-4:-3] + L[-5:-4]\n",
    "\n",
    "# [6, 6, 6, 6, 6]\n",
    "result9 = L[5:10]\n",
    "\n",
    "# [2, 9, 6, 4]\n",
    "result10 = L[1:2] + [L[3]] + L[5:7] + [L[7]]\n",
    "\n",
    "# Print the results\n",
    "print(result1)\n",
    "print(result2)\n",
    "print(result3)\n",
    "print(result4)\n",
    "print(result5)\n",
    "print(result6)\n",
    "print(result7)\n",
    "print(result8)\n",
    "print(result9)\n",
    "print(result10)"
   ]
  },
  {
   "cell_type": "markdown",
   "metadata": {},
   "source": [
    "\\\n",
    "\\\n",
    "**Problem 4:** \n",
    "\\\n",
    "What is the final angular speed of your bicycle wheels when their initial angular speed is 7.2 rad/s, the angular acceleration is 2.2 rad/$s^2$, and the acceleration occurs over a change in angle of 31.5 rad? \n",
    "\\\n",
    "\\\n",
    "Recall that $𝜔^2$=$𝜔_0^2$ + 2 𝛼 Δ𝜃 where 𝜔 is the angular speed, $𝜔_0$ is the initial angular speed, 𝛼 is the angular acceleration, and Δ𝜃 is the change in angle in radians.\n",
    "\\\n",
    "\\\n",
    "Use an f-string to print the answer, rounded to 3 decimal places."
   ]
  },
  {
   "cell_type": "code",
   "execution_count": null,
   "metadata": {},
   "outputs": [],
   "source": [
    "# this was veru confusing since in not familar with this equation\n",
    "initial_angular_speed = 7.2  # rad/s\n",
    "angular_acceleration = 2.2   # rad/s²\n",
    "change_in_angle = 31.5       # rad\n",
    "\n",
    "final_angular_speed_squared = initial_angular_speed ** 2 + 2 * angular_acceleration * change_in_angle\n",
    "final_angular_speed = (final_angular_speed_squared) ** 0.5\n",
    "\n",
    "print(f\"Final Angular Speed: {final_angular_speed:.3f} rad/s\")\n"
   ]
  },
  {
   "cell_type": "markdown",
   "metadata": {},
   "source": [
    "\\\n",
    "\\\n",
    "**Problem 5:** \n",
    "\\\n",
    "The following lists show the y values of two sinusoidal waves:\n",
    "\\\n",
    "\\\n",
    "wave1 = [0.0, 1.5, 2.6, 3.0, 2.6, 1.5, 0.0, -1.5, -2.6, -3.0, -2.6, -1.5, 0]\n",
    "\\\n",
    "wave2 = [1.68, 2.0, 1.78, 1.08, 0.0944, -0.917, -1.68, -2.0, -1.78, -1.08, -0.0944, 0.917, 1.68]\n",
    "\\\n",
    "Their values are tabulated at 0, 30, 60, ... , 360 degrees  \n",
    "\n",
    "* Plot wave1 with circle markers, as a blue solid line.  \n",
    "* Plot wave2 with star markers, as a red dotted line.  \n",
    "* Create a third list (wave3) that is the sum of wave1 and wave2.  Plot wave3 with plus markers, as a green dashed line.  \n",
    "\n",
    "(Use pyplot format strings to specify the markers, color and line style for these plots)"
   ]
  },
  {
   "cell_type": "code",
   "execution_count": null,
   "metadata": {},
   "outputs": [],
   "source": [
    "import matplotlib.pyplot as plt\n",
    "\n",
    "# Data\n",
    "degrees = list(range(0, 361, 30))\n",
    "wave1 = [0.0, 1.5, 2.6, 3.0, 2.6, 1.5, 0.0, -1.5, -2.6, -3.0, -2.6, -1.5, 0]\n",
    "wave2 = [1.68, 2.0, 1.78, 1.08, 0.0944, -0.917, -1.68, -2.0, -1.78, -1.08, -0.0944, 0.917, 1.68]\n",
    "\n",
    "wave3 = [w1 + w2 for w1, w2 in zip(wave1, wave2)]\n",
    "\n",
    "plt.figure(figsize=(10, 6))\n",
    "plt.plot(degrees, wave1, 'bo-', label='wave1 (Blue Solid Line)')\n",
    "plt.plot(degrees, wave2, 'r*:', label='wave2 (Red Dotted Line)')\n",
    "plt.plot(degrees, wave3, 'g--', label='wave3 (Green Dashed Line)')\n",
    "plt.xlabel('Degrees')\n",
    "plt.ylabel('Y Values')\n",
    "plt.title('Sinusoidal Waves')\n",
    "plt.grid(True)\n",
    "plt.legend()\n",
    "\n",
    "plt.show()\n"
   ]
  }
 ],
 "metadata": {
  "kernelspec": {
   "display_name": "Python 3 (ipykernel)",
   "language": "python",
   "name": "python3"
  },
  "language_info": {
   "codemirror_mode": {
    "name": "ipython",
    "version": 3
   },
   "file_extension": ".py",
   "mimetype": "text/x-python",
   "name": "python",
   "nbconvert_exporter": "python",
   "pygments_lexer": "ipython3",
   "version": "3.9.6"
  }
 },
 "nbformat": 4,
 "nbformat_minor": 1
}
