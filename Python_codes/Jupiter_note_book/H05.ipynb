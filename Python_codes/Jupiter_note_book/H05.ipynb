{
 "cells": [
  {
   "cell_type": "markdown",
   "metadata": {},
   "source": [
    "# Homework H05\n",
    "\n",
    "L09, L10"
   ]
  },
  {
   "cell_type": "markdown",
   "metadata": {},
   "source": [
    "Problems 1 thru 5 are each worth 2 marks.  Problem 6 is an optional BONUS question, also worth 2 marks.  So a perfect subission would achieve 12 marks out of 10."
   ]
  },
  {
   "cell_type": "markdown",
   "metadata": {},
   "source": [
    "\\\n",
    "**Problem 1: 2 marks** \n",
    "\\\n",
    "Consider the following list of numbers: [3, 2, 9, 1, 7, 8]\n",
    "\\\n",
    "Define a function called `bigger` that accepts two numbers, `a` and `b` and returns whether the first is bigger than the second.  (If yes, return 1; if no, return 0)\n",
    "\\\n",
    "Apply `bigger` to each possible pair of *different* elements in the list.  (For example, do not compare 3 with itself).  Print the two numbers, and whether the first is bigger than the second, or vice versa.  Your answer should begin like this:\n",
    "```\n",
    "first=3 second=2 : first  is bigger\n",
    "first=3 second=9 : second is bigger\n",
    "first=3 second=1 : first  is bigger\n",
    "first=3 second=7 : second is bigger\n",
    "first=3 second=8 : second is bigger\n",
    "```"
   ]
  },
  {
   "cell_type": "markdown",
   "metadata": {},
   "source": [
    "\\\n",
    "\\\n",
    "**Problem 2: 2 marks** \n",
    "\\\n",
    "Create 2 numpy vectors (1D arrays) to hold the following values:\n",
    "\n",
    "* Volts:  [6.3, 4.2, 5.0, 1.1, 1.1, 5.9]\n",
    "* Ohms:   [100, 150, 220, 330, 470, 680]\n",
    " \n",
    "Calculate the current (in Amps) that would flow if each Volts were applied across the corresponding Ohms.  For example, 4.2 Volts applied across the 150 Ohms would result in a current of 4.2/150 = 0.028 Amps.  Use a single, whole-array operation, to derive your answer.  Do *not* use a *for* loop."
   ]
  },
  {
   "cell_type": "markdown",
   "metadata": {},
   "source": [
    "\\\n",
    "\\\n",
    "**Problem 3: 2 marks**\n",
    "\\\n",
    "Define a function that takes two string arguments and compares their lengths.  It should return the values -1, 0 or +1 to indicate whether the first string is shorter, equal or longer than the second.  Your function should use only a single *return* statement.\n",
    "\\\n",
    "Write 3 example tests to demonstrate that your function works correctly."
   ]
  },
  {
   "cell_type": "markdown",
   "metadata": {},
   "source": [
    "\\\n",
    "\\\n",
    "**Problem 4: 2 marks**\n",
    "\\\n",
    "The force $F$ on a particle with unit charge (1 Coulomb) moving with velocity $\\vec{v}$ in a magnetic field $\\vec{B}$ is given by the *cross-product* formula:\n",
    "$$\\vec{F} = \\vec{v} \\times \\vec{B} $$\n",
    "Define a function called `magforce` that accepts 2 arguments: a 3-element vector `v` for the velocity and another 3-element vector `B` for the magnetic field.  It should calculate the size of the resulting magnetic force.\n",
    "\\\n",
    "Let's refer to the x, y and z components of `v` as: vx, vy and vz.  Similarly: Bx, By and Bz.  Similarly: Fx, Fy and Fz.  Recall that:\n",
    "\n",
    "* Fx = vy * Bz - vz * By\n",
    "* Fy = vz * Bx - vx * Bz\n",
    "* Fz = vx * By - vy * Bx\n",
    "\n",
    "Recall the size of the vector force [Fx Fy Fz] is given by Pythagorus' formula for the diagonal of the vector [Fx, Fy, Fz]\n",
    "\n",
    "Check your function is correct for the case: magforce([0.1 0.2 0.3], [0.4 0.5 0.6]).  Print the answer, rounded to 5 decimal places.\n",
    "\\\n",
    "\\\n",
    "Perform the calculations in $magforce$ according to the above formulae.  Insert a check of your answer, by using the two builtin functions `numpy.cross` and `numpy.dot`."
   ]
  },
  {
   "cell_type": "markdown",
   "metadata": {},
   "source": [
    "\\\n",
    "\\\n",
    "**Problem 5: 2 marks**\n",
    "\\\n",
    "Define a function that accepts a numpy array of resistors (value in Ohms), and treats them as connected in parallel, to calculate their total effective resistance.  If the resistors have values R1, R2 up to Rn, then their total resistance is given by: \n",
    "\n",
    "* 1/Rtot = 1/R1 + 1/R2 + ... + 1/Rn\n",
    "\n",
    "Your function must work for an array with *any* number of resistors.  Use whole-vector operations, such as `numpy.reciprocal`.  Do *not* use a loop.  \n",
    "\\\n",
    "Test your function with the array [11  3.5  29  15  23].  Print the result rounded to 2 decimal places."
   ]
  },
  {
   "cell_type": "markdown",
   "metadata": {},
   "source": [
    "\\\n",
    "\\\n",
    "**Problem 6: BONUS: 2 marks**\n",
    "\\\n",
    "Use a `for` loop to generate a numpy vector, called `xs` with 8 elements; the zeroth element should have the value 0.000; the first element, the value 1.111; the second element, the value 2.222, and so on.\n",
    "\\\n",
    "Generate a numpy vector, called `ys` with 8 elements, all having the value 7.654.  Do *not* use a loop. \n",
    "\\\n",
    "Add each element of `xs` to each element of `ys` (xs[0] + ys[0], xs[1] + ys[1], etc) without using a loop.\n",
    "\\\n",
    "Define a function called `pretty` to print the elements of a vector in a single line, as floats, in a field width of 6, with 2 digits after the decimal point.\n",
    "\\\n",
    "Use `pretty` to print out `xs`, `ys`.  Your answer should look like this:\n",
    "\n",
    "    0.00   1.11   2.22   3.33   4.44   5.55   6.67   7.78 \n",
    "    7.65   7.65   7.65   7.65   7.65   7.65   7.65   7.65 "
   ]
  }
 ],
 "metadata": {
  "kernelspec": {
   "display_name": "Python 3 (ipykernel)",
   "language": "python",
   "name": "python3"
  },
  "language_info": {
   "codemirror_mode": {
    "name": "ipython",
    "version": 3
   },
   "file_extension": ".py",
   "mimetype": "text/x-python",
   "name": "python",
   "nbconvert_exporter": "python",
   "pygments_lexer": "ipython3",
   "version": "3.9.13"
  }
 },
 "nbformat": 4,
 "nbformat_minor": 1
}
