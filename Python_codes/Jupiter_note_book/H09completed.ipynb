{
 "cells": [
  {
   "cell_type": "markdown",
   "id": "80743ee1",
   "metadata": {},
   "source": [
    "## Homework H09\n",
    "\n",
    "L16, L17, L18"
   ]
  },
  {
   "cell_type": "markdown",
   "id": "eb580ae1",
   "metadata": {},
   "source": [
    "\\\n",
    "\\\n",
    "**Problem 1:**\n",
    "\\\n",
    "Give a short definition of the following terms.  Don't just copy what Google says!  \n",
    "\n",
    "* In order to debug your code, which technique do you prefer: adding `print` statements, or stepping thru your code using the Spyder interactive debugger?  Explain one good point for each.\n",
    "* The Spyder debugger lets you step-into every line of code.  But it also provides a step-over.  Why do you think it provides both options?\n",
    "* In class, we learned how to read Text files into memory.  Why do you think we did not look at reading binary files?\n",
    "* In OOP, we have `methods`, and they look very like functions, right?  So what is so different  that we give them this new name of `method`?"
   ]
  },
  {
   "cell_type": "markdown",
   "metadata": {},
   "source": [
    "I prefer printing statements, i belive it is easier and much simplier to use| spyder debugger is built in and is made my professionals to help you debug your code.\n",
    "Every line lets you go into every line and that is when you are super confused on what is wrong and step over is when you know that is not wrong.\n",
    "Text files are readable with out any deep insight into computing, binary files are just 1s and 0s and normal people dont know how to read them.\n",
    "Methods are connected with a class and and determin the behavior of a class."
   ]
  },
  {
   "cell_type": "markdown",
   "id": "d9b8fadb",
   "metadata": {},
   "source": [
    "\\\n",
    "\\\n",
    "**Problem 2:**\n",
    "\n",
    "Write a file to read the file \"Faraday.txt\" into memory.\n",
    "\n",
    "* Print the number of characters in the file.\n",
    "* Print the number of words in the file.\n",
    "* Print the number of lines in the file (estimate this by counting the number of `newline` characters)\n",
    "* Count and print the number of characters that are:\n",
    "  * lower case\n",
    "  * upper case\n",
    "  * neither"
   ]
  },
  {
   "cell_type": "code",
   "execution_count": null,
   "metadata": {},
   "outputs": [],
   "source": [
    "file_name = 'Faraday.txt'\n",
    "\n",
    "with open(file_name, 'r') as file:\n",
    "    content = file.read()\n",
    "num_characters = len(content)\n",
    "\n",
    "num_words = len(content.split())\n",
    "\n",
    "num_lines = content.count('\\n') + 1  \n",
    "\n",
    "lowercase_count = sum(1 for char in content if char.islower())\n",
    "uppercase_count = sum(1 for char in content if char.isupper())\n",
    "neither_count = num_characters - lowercase_count - uppercase_count\n",
    "\n",
    "print(f\"Number of characters: {num_characters}\")\n",
    "print(f\"Number of words: {num_words}\")\n",
    "print(f\"Number of lines: {num_lines}\")\n",
    "print(f\"Lowercase characters: {lowercase_count}\")\n",
    "print(f\"Uppercase characters: {uppercase_count}\")\n",
    "print(f\"Neither lowercase nor uppercase characters: {neither_count}\")\n"
   ]
  },
  {
   "cell_type": "markdown",
   "id": "56c3c38a",
   "metadata": {},
   "source": [
    "\\\n",
    "\\\n",
    "**Problem 3:**\n",
    "\\\n",
    "Define a function `neg_average` that accepts a vector and returns the average of all its negative values.  Be careful to check that the vector actually contains any negative values.\n",
    "\\\n",
    "\\\n",
    "To test your function, generate two vectors of 1 million floats.  For the first, generate random numbers in the range -5 to +8.  For the second, in the range 1 to 8.  Print the resulting averages."
   ]
  },
  {
   "cell_type": "code",
   "execution_count": null,
   "metadata": {},
   "outputs": [],
   "source": [
    "import random\n",
    "\n",
    "def neg_average(vector):\n",
    "    negative_values = [x for x in vector if x < 0]\n",
    "    if not negative_values:\n",
    "        return 0 \n",
    "    return sum(negative_values) / len(negative_values)\n",
    "\n",
    "vector_with_negatives = [random.uniform(-5, 8) for _ in range(1000000)]\n",
    "vector_without_negatives = [random.uniform(1, 8) for _ in range(1000000)]\n",
    "\n",
    "avg_with_negatives = neg_average(vector_with_negatives)\n",
    "avg_without_negatives = neg_average(vector_without_negatives)\n",
    "\n",
    "print(f\"Average of negative values in vector with negatives: {avg_with_negatives}\")\n",
    "print(f\"Average of negative values in vector without negatives: {avg_without_negatives}\")\n"
   ]
  },
  {
   "cell_type": "markdown",
   "id": "c2540c44",
   "metadata": {},
   "source": [
    "\\\n",
    "\\\n",
    "**Problem 3:**\n",
    "\\\n",
    "Below is a tiny program.  It keeps adding 0.1 to `sum` until `sum` hits the value 1.0.\n",
    "\\\n",
    "Type this program into a Spyder window and run it.  You will find that it never stops!\n",
    "\n",
    "```\n",
    "sum = 0.0\n",
    "inc = 0.1\n",
    "\n",
    "while True:               # 'forever' loop\n",
    "    sum += inc\n",
    "    if (sum == 1.0):\n",
    "        break\n",
    "\n",
    "print(f\"sum = {sum}\")\n",
    "```\n",
    "Work out what's going on.  Why does it keep running forever?  How would you fix the program so that it stops when the sum reaches 1.0?  Explain the steps you take to solve the problem."
   ]
  },
  {
   "cell_type": "markdown",
   "metadata": {},
   "source": [
    "i swear we did this question before, and the solution is that since it never reaches 1.0 on the dot we have to as it if (sum >= 1.0) this way we get it to 1.0 / if it passes 1.0"
   ]
  },
  {
   "cell_type": "markdown",
   "id": "e9850252",
   "metadata": {},
   "source": [
    "\\\n",
    "\\\n",
    "**Problem 4:**\n",
    "\\\n",
    "Define a variable `s` that holds the String \"it was the worst of times\".  Use the methods available on String objects to solve the following questions.\n",
    "* Capitalize `s` and print\n",
    "* Print `s` in all upper case\n",
    "* Separate every word in `s` and print the result as a list of strings\n",
    "* Find the first occurrence of the letter 't' in `s` and print its index\n",
    "* Find the second occurrence of the letter 't' in `s` and print its index\n",
    "* Find the second occurrence of the letter 't' in `s` and print its index\n",
    "* Find the first occurrence of the word \"of\" in `s` and print its index\n",
    "* Print `s` centered in a space of 30 characters\n",
    "* Scan every character in `s` to find a space.  Print the index at which each one occurs"
   ]
  },
  {
   "cell_type": "code",
   "execution_count": 6,
   "metadata": {},
   "outputs": [
    {
     "name": "stdout",
     "output_type": "stream",
     "text": [
      "It was the worst of times\n",
      "IT WAS THE WORST OF TIMES\n",
      "['it', 'was', 'the', 'worst', 'of', 'times']\n",
      "Index of first 't': 1\n",
      "Index of second 't': 7\n",
      "Index of 'of': 17\n",
      "  it was the worst of times   \n",
      "Space found at index 2\n",
      "Space found at index 6\n",
      "Space found at index 10\n",
      "Space found at index 16\n",
      "Space found at index 19\n"
     ]
    }
   ],
   "source": [
    "s = \"it was the worst of times\"\n",
    "\n",
    "print(s.capitalize())\n",
    "\n",
    "print(s.upper())\n",
    "\n",
    "words_list = s.split()\n",
    "print(words_list)\n",
    "\n",
    "first_t_index = s.index('t')\n",
    "print(f\"Index of first 't': {first_t_index}\")\n",
    "\n",
    "second_t_index = s.index('t', first_t_index + 1)\n",
    "print(f\"Index of second 't': {second_t_index}\")\n",
    "\n",
    "of_index = s.index('of')\n",
    "print(f\"Index of 'of': {of_index}\")\n",
    "\n",
    "print(s.center(30))\n",
    "\n",
    "for index, char in enumerate(s):\n",
    "    if char == ' ':\n",
    "        print(f\"Space found at index {index}\")\n"
   ]
  },
  {
   "cell_type": "markdown",
   "id": "1898b78d",
   "metadata": {},
   "source": [
    "\\\n",
    "\\\n",
    "**Problem 5:**\n",
    "\\\n",
    "* Create a vector called `v` holding random 10 ints, each one in the range 0 thru 9 inclusive.  Be sure to declare `v` as holding ints, rather than floats.  Print the vector\n",
    "* Add all of the elements together and print the result\n",
    "* Multiply all of the elements together and print the result\n",
    "* Print `v`, reshaped as a 2 x 5 matrix"
   ]
  },
  {
   "cell_type": "code",
   "execution_count": 5,
   "id": "b01d1bf4",
   "metadata": {},
   "outputs": [
    {
     "name": "stdout",
     "output_type": "stream",
     "text": [
      "Vector v: [9 4 7 0 2 1 1 6 7 8]\n",
      "Sum of elements: 45\n",
      "Product of elements: 0\n",
      "Reshaped v as a 2x5 matrix:\n",
      "[[9 4 7 0 2]\n",
      " [1 1 6 7 8]]\n"
     ]
    }
   ],
   "source": [
    "import numpy as np\n",
    "v = np.random.randint(0, 10, size=10)\n",
    "print(\"Vector v:\", v)\n",
    "\n",
    "sum_of_elements = np.sum(v)\n",
    "print(\"Sum of elements:\", sum_of_elements)\n",
    "\n",
    "product_of_elements = np.prod(v)\n",
    "print(\"Product of elements:\", product_of_elements)\n",
    "\n",
    "reshaped_v = np.reshape(v, (2, 5))\n",
    "print(\"Reshaped v as a 2x5 matrix:\")\n",
    "print(reshaped_v)\n"
   ]
  }
 ],
 "metadata": {
  "kernelspec": {
   "display_name": "Python 3 (ipykernel)",
   "language": "python",
   "name": "python3"
  },
  "language_info": {
   "codemirror_mode": {
    "name": "ipython",
    "version": 3
   },
   "file_extension": ".py",
   "mimetype": "text/x-python",
   "name": "python",
   "nbconvert_exporter": "python",
   "pygments_lexer": "ipython3",
   "version": "3.9.6"
  }
 },
 "nbformat": 4,
 "nbformat_minor": 5
}
