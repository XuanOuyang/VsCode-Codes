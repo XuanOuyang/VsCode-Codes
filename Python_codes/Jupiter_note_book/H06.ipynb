{
 "cells": [
  {
   "cell_type": "markdown",
   "id": "80743ee1",
   "metadata": {},
   "source": [
    "## Homework H06\n",
    "\n",
    "L11, L12"
   ]
  },
  {
   "cell_type": "markdown",
   "id": "eb580ae1",
   "metadata": {},
   "source": [
    "**Problem 1: 2 marks**\n",
    "\\\n",
    "Define a function called `rms` that accepts a numpy vector, and calculates the Root-Mean-Square of its elements.  Include a Docstring that carefully describes, to a user of your function, what `rms` does.  Your Docstring should include an example.\n",
    "\\\n",
    "To understand Root-Mean-Square, consider the vector [3 4 8].  Then its rms value is given by: $\\sqrt{\\frac{(3^2 + 4^2 + 8^2)}{3}} $ \n",
    "\\\n",
    "Use vector operations when defining your `rms` function.  Do *not* use loops.\n",
    "\\\n",
    "Test your function on the vector [3 4 8 2 1 4 8 0 5].  Print the result, rounded to 3 decimal places."
   ]
  },
  {
   "cell_type": "markdown",
   "id": "56c3c38a",
   "metadata": {},
   "source": [
    "\\\n",
    "\\\n",
    "**Problem 2: 2 marks**\n",
    "\\\n",
    "In the lab, we apply varying voltages across a resistor and measure the corresponding current:\n",
    "\n",
    "|Voltage (Volts)|Current (milliAmps)|\n",
    "| :-: | :-: |\n",
    "|0.1|0.368|\n",
    "|0.2|0.739|\n",
    "|0.3|1.112|\n",
    "|0.4|1.481|\n",
    "|0.5|1.852|\n",
    "|0.6|2.220|\n",
    "|0.7|2.593|\n",
    "|0.8|2.961|\n",
    "|0.9|3.333|\n",
    "|1.0|3.704|\n",
    "\n",
    "We want to calculate the best-fit resistance using the least-squares method:\n",
    "$$\n",
    "    R = \\frac{\\sum_{j=1}^{n}(I_{j} - \\bar{I})(V_{j} - \\bar{V})}{\\sum_{j=1}^{n}(I_{j} - \\bar{I})^2}\n",
    "$$ \n",
    "where $\\bar{I}$ is the is the average value of $I$, and $\\bar{V}$ is the average value of $V$.\n",
    "\\\n",
    "\\\n",
    "Breaking down this formula into steps we have:\n",
    "* calculate `ibar`, the average current in Amps (*not* in milliAmps)\n",
    "* Calculate `vbar` the average voltage in Volts\n",
    "* Calculate:\n",
    "  - top = (0.368e-3 - ibar) * (0.1 - vbar) + . . . + (3.704e-3 - ibar) * (1.0 - vbar)\n",
    "  - bottom = (0.368e-3 - ibar)\\*\\*2 + . . . (3.704e-3 - ibar)\\*\\*2\n",
    "* Calculate the final answer as: top / bottom\n",
    "\n",
    "Write a program to calculate the best-fit resistance, using only *for* loops.  Print the answer, rounded to 2 decimal places.  (Your solution should include a function, called `average` that calculates the average value of a vector)"
   ]
  },
  {
   "cell_type": "markdown",
   "id": "c2540c44",
   "metadata": {},
   "source": [
    "\\\n",
    "\\\n",
    "**Problem 3: 2 marks**\n",
    "\\\n",
    "Repeat the above question, but using numpy array functions and operations.  Do *not* use the `average` function from the previous problem.  Again, print the answer, rounded to 2 decimal places.\n",
    "\\\n",
    "\\\n",
    "Note: your Python solution should be *much* shorter than the \"by loops\" solution above!"
   ]
  },
  {
   "cell_type": "markdown",
   "id": "e9850252",
   "metadata": {},
   "source": [
    "\\\n",
    "\\\n",
    "**Problem 4: 2 marks**\n",
    "\\\n",
    "Use numpy functions and operators to perform the following calculations:\n",
    "\n",
    "* Create a function called `newvec` that takes 3 parameters: `start`, `stop` and `num`.  It should create a vector, `num` elements long, holding the values `start`, `start+step`, `start+2*step`, etc. Use the `numpy.arange` function in your solution.\n",
    "\\\n",
    "For example, numvec(3.1, 0.2, 5) should generate the 5-element vector: [3.1 3.5 3.7 3.9 4.1]\n",
    "\n",
    "* Use `newvec` to create a vector holding 1000 element, starting 10, 15, 20, 25.  Call it `a`.\n",
    "* Use numpy functions for the following tasks (not *for* loops):\n",
    "  - Print the length of `a`\n",
    "  - Print the sum of all elements in `a`\n",
    "  - Print the average of all elements in `a`\n",
    "  - Print the sum of the square-root of each element in `a`\n",
    "  - Print the square-root of the sum of elements in `a`"
   ]
  },
  {
   "cell_type": "markdown",
   "id": "8d196edd",
   "metadata": {},
   "source": [
    "\\\n",
    "\\\n",
    "**Problem 5:**  2 marks\n",
    "\\\n",
    "\\\n",
    "The `s` matrix (2D numpy array) in the code below shows the signal strength of a radar field, measured on a 4x4 grid.  The measurements are *noisy*.  Use nested *for* loops to remove the *noise* by replacing each *interior* value with the average of itself and its four neighbors.  Call your solution matrix `sol`.  Print `sol`, with each element rounded to 3 decimal places.\n",
    "\\\n",
    "\\\n",
    "Also use the expression `np.sum(sol)` to sum all the elements together.  Print the result, rounded to 3 decimal places.  (This step makes grading easier!)\n",
    "\\\n",
    "\\\n",
    "**Note 1:** A *neighboring* point lies above, below, to the left, or to the right.  (But *not* along any diagonal line)\n",
    "\n",
    "**Note 2:** We can picture the 4x4 grid as made up of *corner* points, *edge* points and *interior* points.  The four *corner* points are those in the corners, obviously.  The *edge* points are those in the top and bottom rows, left and right columns (but excluding the *corner* points).  The *interior* points are those points inside the grid, which are neither *corner* nor *edge* points.\n",
    "\\\n",
    "\\\n",
    "**Hint**: generate a new, 4x4 matrix of zeros to hold your answer.  Copy the values of the *corner* and *edge* points unchanged.  Calculate the value of each *interior* point to be the average of itself and its four neighbors."
   ]
  },
  {
   "cell_type": "code",
   "execution_count": 1,
   "id": "17d7a65e",
   "metadata": {},
   "outputs": [],
   "source": [
    "import numpy as np\n",
    "\n",
    "s = np.array([[1.039, 1.038, 0.920, 0.897],\n",
    "              [1.019, 1.115, 1.016, 0.990],\n",
    "              [1.295, 1.287, 1.205, 1.180],\n",
    "              [1.327, 1.365, 1.193, 1.348]])"
   ]
  },
  {
   "cell_type": "markdown",
   "id": "29561ed4",
   "metadata": {},
   "source": [
    "\\\n",
    "\\\n",
    "**Problem 6: BONUS:**  4 marks\n",
    "\\\n",
    "\\\n",
    "Starting again with the `s` matrix in Problem 5, apply *smoothing* to remove noise.  But this time, treat *all* points in the array: *corner*, *edge* and *interior*.  Print your averaged matrix, rounded to 3 decimal places.\n",
    "\\\n",
    "\\\n",
    "As before, use the expression `np.sum(sol)` to sum all the elements together.  Print the result, rounded to 3 decimal places.  (This step makes grading easier!)\n",
    "\\\n",
    "\\\n",
    "**Hint**: The value at each point should be replaced by the average of itself and its neighbors.  A *corner* point has 2 neighbors; an *edge* point has 3 neighbors; an *interior* point has 4 neighbors."
   ]
  },
  {
   "cell_type": "code",
   "execution_count": null,
   "id": "3ee9ca1f",
   "metadata": {},
   "outputs": [],
   "source": []
  }
 ],
 "metadata": {
  "kernelspec": {
   "display_name": "Python 3 (ipykernel)",
   "language": "python",
   "name": "python3"
  },
  "language_info": {
   "codemirror_mode": {
    "name": "ipython",
    "version": 3
   },
   "file_extension": ".py",
   "mimetype": "text/x-python",
   "name": "python",
   "nbconvert_exporter": "python",
   "pygments_lexer": "ipython3",
   "version": "3.9.13"
  }
 },
 "nbformat": 4,
 "nbformat_minor": 5
}
