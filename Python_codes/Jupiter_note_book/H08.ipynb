{
 "cells": [
  {
   "cell_type": "markdown",
   "id": "80743ee1",
   "metadata": {},
   "source": [
    "## Homework H08\n",
    "\n",
    "L15"
   ]
  },
  {
   "cell_type": "markdown",
   "id": "eb580ae1",
   "metadata": {},
   "source": [
    "\\\n",
    "\\\n",
    "**Problem 1: 2 marks**\n",
    "\\\n",
    "Define a function that accepts a vector of floats, scans each element, and reports the index of the first one that exceeds a specified threshold.  If no such element is found, return -1.\n",
    "```\n",
    "    first_above(vec, thresh)\n",
    "```\n",
    "To test your function, generate a random vector of 1000 floats, with values between 0 and 1.  Set the random seed to 12345.  Then run two tests, as follows:\n",
    "```\n",
    "    print(first_above(vec, 0.99))\n",
    "    print(first_above(vec, 100))\n",
    "```"
   ]
  },
  {
   "cell_type": "code",
   "execution_count": 1,
   "metadata": {},
   "outputs": [
    {
     "name": "stdout",
     "output_type": "stream",
     "text": [
      "26\n",
      "-1\n"
     ]
    }
   ],
   "source": [
    "import numpy as np\n",
    "\n",
    "def first_above(vec, thresh):\n",
    "    for i, value in enumerate(vec):\n",
    "        if value > thresh:\n",
    "            return i\n",
    "    return -1\n",
    "\n",
    "np.random.seed(12345)\n",
    "\n",
    "vec = np.random.rand(1000)\n",
    "\n",
    "print(first_above(vec, 0.99))\n",
    "print(first_above(vec, 100))\n"
   ]
  },
  {
   "cell_type": "markdown",
   "id": "56c3c38a",
   "metadata": {},
   "source": [
    "\\\n",
    "\\\n",
    "**Problem 2: 2 marks**\n",
    "\\\n",
    "Define a function `neg_average` that accepts a vector and returns the average of all its negative values.  (Note that the resulting average will of course be a negative value).  Be careful to check that the vector actually contains any negative values.\n",
    "\\\n",
    "\\To test your function, generate two vectors of 1 million floats each, using `random.uniform`.  Set the random seed to 444.  For the first vector, generate random numbers in the range -5 to +8.  For the second, set the random seed to 555 and generate numbers in the range 1 to 8.  Print the resulting averages, to 2 decimal places."
   ]
  },
  {
   "cell_type": "code",
   "execution_count": 4,
   "metadata": {},
   "outputs": [
    {
     "name": "stdout",
     "output_type": "stream",
     "text": [
      "Average of negative values in vec1: -2.50\n",
      "Average of negative values in vec2: 0.00\n"
     ]
    }
   ],
   "source": [
    "import random\n",
    "\n",
    "def neg_average(vec):\n",
    "    negative_values = [x for x in vec if x < 0]\n",
    "\n",
    "    if not negative_values:\n",
    "        return 0\n",
    "\n",
    "    return np.mean(negative_values)\n",
    "\n",
    "# Set random seed for reproducibility\n",
    "random.seed(444)\n",
    "vec1 = np.random.uniform(-5, 8, size=1000000) #-5 +8\n",
    "\n",
    "random.seed(555)\n",
    "vec2 = np.random.uniform(1, 8, size=1000000) # 1 to 8 \n",
    "\n",
    "print(f\"Average of negative values in vec1: {neg_average(vec1):.2f}\")\n",
    "print(f\"Average of negative values in vec2: {neg_average(vec2):.2f}\")\n"
   ]
  },
  {
   "cell_type": "markdown",
   "id": "c2540c44",
   "metadata": {},
   "source": [
    "\\\n",
    "\\\n",
    "**Problem 3: 2 marks**\n",
    "\\\n",
    "Below is a tiny program.  It keeps adding 0.1 to `sum` until `sum` hits the value 1.0.\n",
    "\\\n",
    "Type this program into a Jupyter Notebook or Spyder window and run it.  You will find that it never stops!\n",
    "\n",
    "```\n",
    "sum = 0.0\n",
    "inc = 0.1\n",
    "\n",
    "while True:               # 'forever' loop\n",
    "    sum += inc\n",
    "    if (sum == 1.0):\n",
    "        break\n",
    "\n",
    "print(f\"sum = {sum}\")\n",
    "```\n",
    "Work out what's going on.  Why does it keep running forever?  How would you fix the program so that it stops when the sum reaches 1.0?  Explain the steps you took to solve this question. "
   ]
  },
  {
   "cell_type": "code",
   "execution_count": null,
   "metadata": {},
   "outputs": [],
   "source": [
    "sum = 0.0\n",
    "inc = 0.1\n",
    "\n",
    "while True:               # 'forever' loop\n",
    "    sum += inc\n",
    "    if (sum == 1.0):\n",
    "        break\n",
    "\n",
    "print(f\"sum = {sum}\")"
   ]
  },
  {
   "cell_type": "markdown",
   "metadata": {},
   "source": [
    "clearly, the sum never reacher 1.0, \n",
    "\n",
    "after running it it reaches 1.0 but never 1.0 exacly so the answer is simply make the == sign into a > sign\n",
    "\n",
    "rightt.... steps \n",
    "\n",
    "i rans two print statments to see what sum was doing and then i made the executive desison to change == into > "
   ]
  },
  {
   "cell_type": "code",
   "execution_count": 8,
   "metadata": {},
   "outputs": [
    {
     "name": "stdout",
     "output_type": "stream",
     "text": [
      "sum = 1.0999999999999999\n"
     ]
    }
   ],
   "source": [
    "sum = 0.0\n",
    "inc = 0.1\n",
    "\n",
    "while True:               # 'this solution makes it stop when it crosses 1.0 \n",
    "    sum += inc\n",
    "    if (sum > 1.0):\n",
    "        break\n",
    "\n",
    "print(f\"sum = {sum}\")"
   ]
  },
  {
   "cell_type": "markdown",
   "id": "e9850252",
   "metadata": {},
   "source": [
    "\\\n",
    "\\\n",
    "**Problem 4: 2 marks**\n",
    "\\\n",
    "\\\n",
    "Define a function called `how_many`.  It takes two parameters: the first is a numpy vector (1-dimensional array); the second is an integer.  The function works out how many times the specified integer value occurs in the array.\n",
    "\n",
    "Set the random number generator seed to 31416.  Generate a vector holding 20 random numbers in the range 1 to 10, inclusive.  Call `how_many` to find how many 10s are in the vector.  Print out the vector, and the number of 10s found"
   ]
  },
  {
   "cell_type": "code",
   "execution_count": 12,
   "metadata": {},
   "outputs": [
    {
     "name": "stdout",
     "output_type": "stream",
     "text": [
      "Generated Vector: [ 7  3 10  8  8  6  2  8  7  4  2  5  1  2  5  6 10  6  8  9]\n",
      "Number of 10s found: 2\n"
     ]
    }
   ],
   "source": [
    "def how_many(vector, value):\n",
    "    occurrences = np.count_nonzero(vector == value)\n",
    "    return occurrences\n",
    "\n",
    "np.random.seed(31416)\n",
    "\n",
    "random_vector = np.random.randint(1, 11, size=20) #semi random vector\n",
    "\n",
    "value_to_count = 10\n",
    "count_of_value = how_many(random_vector, value_to_count)\n",
    "\n",
    "print(f\"Generated Vector: {random_vector}\") \n",
    "print(f\"Number of {value_to_count}s found: {count_of_value}\") # what to find and how many found\n"
   ]
  },
  {
   "cell_type": "markdown",
   "id": "8d196edd",
   "metadata": {},
   "source": [
    "\\\n",
    "\\\n",
    "**Problem 5: 2 marks**\n",
    "  \n",
    "Write a function called `filter`.  It takes a numpy vector of numbers.  The first negative number in that vector should be taken as the end of the vector.  (We might imagine that the numbers are measured signals, in microAmps, from a seismic experiment.  But the context does not actually matter).  `filter` should calculate the average value of numbers in the vector, but only those that lie between 1.000 and 3.000.  It should discard all others.\n",
    "\n",
    "Run you function on the vector: [3.3, 1.2, 0.5, 0.88, 2.89, 2.4, 5.3, 7.26, 0.9, 1.3, 4.1, -1.23, 4.2] and print the resulting average, rounded to 3 decimal places"
   ]
  },
  {
   "cell_type": "code",
   "execution_count": 14,
   "metadata": {},
   "outputs": [
    {
     "name": "stdout",
     "output_type": "stream",
     "text": [
      "Filtered Average: 1.948\n"
     ]
    }
   ],
   "source": [
    "def filter(vector):\n",
    "    end_index = np.argmax(vector < 0) \n",
    "    filtered_values = vector[:end_index] \n",
    "\n",
    "    filtered_values = filtered_values[(filtered_values >= 1.000) & (filtered_values <= 3.000)]\n",
    "\n",
    "    if len(filtered_values) == 0:\n",
    "        return 0 \n",
    "\n",
    "    return round(np.mean(filtered_values), 3)  \n",
    "\n",
    "given_vector = np.array([3.3, 1.2, 0.5, 0.88, 2.89, 2.4, 5.3, 7.26, 0.9, 1.3, 4.1, -1.23, 4.2])\n",
    "\n",
    "print(f\"Filtered Average: {filter(given_vector)}\")\n"
   ]
  },
  {
   "cell_type": "markdown",
   "id": "b8e80cfd",
   "metadata": {},
   "source": [
    "\\\n",
    "\\\n",
    "**Problem 6: BONUS: 4 marks***\n",
    "\\\n",
    "Create a 2-D array (matrix or table) with 7 rows and 8 columns, full of zeros.  Ensure the data type of each element is numpy.int64.  Use slicing to generate the pattern below.  (1s in top row, 2s in bottom row, 3s in left column, 4s in right column, in that order).  Print out the matrix.  Do not use any loops.\n",
    "\n",
    "`3 1 1 1 1 1 1 4\n",
    " 3 0 0 0 0 0 0 4\n",
    " 3 0 0 0 0 0 0 4\n",
    " 3 0 0 0 0 0 0 4\n",
    " 3 0 0 0 0 0 0 4\n",
    " 3 0 0 0 0 0 0 4\n",
    " 3 2 2 2 2 2 2 4`\n",
    " \n",
    "Now use slicing to copy 3 elements from the start of row 0 into the start of column 2.  Print out this matrix.    (Please print a blank line after the previous answer).  Do not use any loops.\n",
    " \n",
    "`3 1 3 1 1 1 1 4\n",
    " 3 0 1 0 0 0 0 4\n",
    " 3 0 1 0 0 0 0 4\n",
    " 3 0 0 0 0 0 0 4\n",
    " 3 0 0 0 0 0 0 4\n",
    " 3 0 0 0 0 0 0 4\n",
    " 3 2 2 2 2 2 2 4`\n",
    " \n",
    "Now use slicing to set row 4, columns 2 thru 5 inclusive, to the value 7.  Print out this matrix.  (Please print a blank line after the previous answer).  Do not use any loops.\n",
    " \n",
    "`3 1 3 1 1 1 1 4\n",
    " 3 0 1 0 0 0 0 4\n",
    " 3 0 1 0 0 0 0 4\n",
    " 3 0 0 0 0 0 0 4\n",
    " 3 0 7 7 7 7 0 4\n",
    " 3 0 0 0 0 0 0 4\n",
    " 3 2 2 2 2 2 2 4`\n",
    " \n",
    "Now use slicing to print rows 1 thru 4 inclusive, for columns 5 thru 7, inclusive.  (Please print a blank line after the previous answer).  Do not use any loops.\n",
    " \n",
    "`0 0 4\n",
    " 0 0 4\n",
    " 0 0 4\n",
    " 7 0 4`"
   ]
  },
  {
   "cell_type": "code",
   "execution_count": 40,
   "metadata": {},
   "outputs": [
    {
     "name": "stdout",
     "output_type": "stream",
     "text": [
      "[[3 1 1 1 1 1 1 4]\n",
      " [3 0 0 0 0 0 0 4]\n",
      " [3 0 0 0 0 0 0 4]\n",
      " [3 0 0 0 0 0 0 4]\n",
      " [3 0 0 0 0 0 0 4]\n",
      " [3 0 0 0 0 0 0 4]\n",
      " [3 2 2 2 2 2 2 4]]\n",
      "\n",
      "[[3 1 3 1 1 1 1 4]\n",
      " [3 0 1 0 0 0 0 4]\n",
      " [3 0 1 0 0 0 0 4]\n",
      " [3 0 0 0 0 0 0 4]\n",
      " [3 0 0 0 0 0 0 4]\n",
      " [3 0 0 0 0 0 0 4]\n",
      " [3 2 2 2 2 2 2 4]]\n",
      "\n",
      "[[3 1 3 1 1 1 1 4]\n",
      " [3 0 1 0 0 0 0 4]\n",
      " [3 0 1 0 0 0 0 4]\n",
      " [3 0 0 0 0 0 0 4]\n",
      " [3 0 7 7 7 7 0 4]\n",
      " [3 0 0 0 0 0 0 4]\n",
      " [3 2 2 2 2 2 2 4]]\n",
      "\n",
      "[[0 0 4]\n",
      " [0 0 4]\n",
      " [0 0 4]\n",
      " [7 0 4]]\n"
     ]
    }
   ],
   "source": [
    "import numpy as np\n",
    "\n",
    "# Create a 7x8 matrix of zeros with data type np.int64\n",
    "matrix = np.zeros((7, 8), dtype=np.int64)\n",
    "\n",
    "# Assign 1s to the top row, 2s to the bottom row, 3s to the left column, and 4s to the right column\n",
    "matrix[0, :] = 1\n",
    "matrix[-1, :] = 2\n",
    "matrix[:, 0] = 3\n",
    "matrix[:, -1] = 4\n",
    "\n",
    "# Print the matrix after assigning 1s, 2s, 3s, and 4s\n",
    "print(matrix) # first matrix \n",
    "print()  # Blank line after the previous answer\n",
    "\n",
    "# Copy 3 elements from the start of row 0 into the start of column 2 using slicing\n",
    "matrix[0:3, 2] = matrix[0, 0:3]\n",
    "\n",
    "# Print the matrix after copying elements\n",
    "print(matrix)\n",
    "print()  # Blank line after the previous answer\n",
    "\n",
    "# Set row 4, columns 2 through 5 inclusive, to the value 7 using slicing\n",
    "matrix[4, 2:6] = 7\n",
    "\n",
    "# Print the matrix after setting values to 7\n",
    "print(matrix)\n",
    "print()  # Blank line after the previous answer\n",
    "\n",
    "# Print rows 1 through 4 inclusive for columns 5 through 7 inclusive using slicing\n",
    "print(matrix[1:5, 5:8])\n"
   ]
  }
 ],
 "metadata": {
  "kernelspec": {
   "display_name": "Python 3 (ipykernel)",
   "language": "python",
   "name": "python3"
  },
  "language_info": {
   "codemirror_mode": {
    "name": "ipython",
    "version": 3
   },
   "file_extension": ".py",
   "mimetype": "text/x-python",
   "name": "python",
   "nbconvert_exporter": "python",
   "pygments_lexer": "ipython3",
   "version": "3.9.6"
  }
 },
 "nbformat": 4,
 "nbformat_minor": 5
}
