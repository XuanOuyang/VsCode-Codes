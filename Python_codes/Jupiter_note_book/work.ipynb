{
 "cells": [
  {
   "cell_type": "code",
   "execution_count": 1,
   "metadata": {},
   "outputs": [
    {
     "data": {
      "text/plain": [
       "'hello bobby, glad to meet you'"
      ]
     },
     "execution_count": 1,
     "metadata": {},
     "output_type": "execute_result"
    }
   ],
   "source": [
    "def hello_name(x):\n",
    "    return \"Hello \"+ x + \", glad to meet you\"\n",
    "\n",
    "hello_name(\"bobby\")"
   ]
  },
  {
   "cell_type": "code",
   "execution_count": null,
   "metadata": {},
   "outputs": [],
   "source": [
    "import matplotlib.pyplot as plt"
   ]
  },
  {
   "cell_type": "code",
   "execution_count": 14,
   "metadata": {},
   "outputs": [
    {
     "name": "stdout",
     "output_type": "stream",
     "text": [
      "1234.56789\n",
      "   1.2e+03\n",
      "1.2e+03\n"
     ]
    }
   ],
   "source": [
    "#formating\n",
    "\n",
    "v = 1.23456789e3\n",
    "print(f'{v:10}') # width 10\n",
    "print(f'{v:10.2}') # 2 digits, width 10\n",
    "print(f'{v:.2}') # 2 digits, width as required\n"
   ]
  },
  {
   "cell_type": "code",
   "execution_count": 13,
   "metadata": {},
   "outputs": [
    {
     "name": "stdout",
     "output_type": "stream",
     "text": [
      "    0.4166    0.01017     0.8252\n",
      "    0.2986     0.3684     0.1937\n"
     ]
    }
   ],
   "source": [
    "# formatting_4.py\n",
    "import random\n",
    "random.seed(12345)\n",
    "r1 = random.random()\n",
    "r2 = random.random()\n",
    "r3 = random.random()\n",
    "print(f\"{r1:10.4} {r2:10.4} {r3:10.4}\")\n",
    "r1 = random.random()\n",
    "r2 = random.random()\n",
    "r3 = random.random()\n",
    "print(f\"{r1:10.4} {r2:10.4} {r3:10.4}\")\n"
   ]
  },
  {
   "cell_type": "code",
   "execution_count": 12,
   "metadata": {},
   "outputs": [
    {
     "name": "stdout",
     "output_type": "stream",
     "text": [
      "this is the math 12298773\n"
     ]
    }
   ],
   "source": [
    "# my own\n",
    "\n",
    "v = 12298773\n",
    "print(\"this is the math \"f'{v:1}')"
   ]
  },
  {
   "cell_type": "code",
   "execution_count": null,
   "metadata": {},
   "outputs": [],
   "source": [
    "for year in range(1866,5024,100): # no idea what 3 numbers do seems like it starts at the first digit until the last digit being risen by the third digit\n",
    "    print(year)"
   ]
  },
  {
   "cell_type": "code",
   "execution_count": null,
   "metadata": {},
   "outputs": [],
   "source": [
    "for number in range(0,1000000):\n",
    "    n = 0\n",
    "    n = n + 1\n",
    "    sqs = n ** 2\n",
    "    print(n + sqs)"
   ]
  },
  {
   "cell_type": "code",
   "execution_count": null,
   "metadata": {},
   "outputs": [],
   "source": [
    "sum = 0\n",
    "for n in range(1000000): # n goes through the range\n",
    "    sum = sum + n * n\n",
    "print(sum)"
   ]
  },
  {
   "cell_type": "code",
   "execution_count": null,
   "metadata": {},
   "outputs": [],
   "source": [
    "for n in range(9): # the code like this seems to be exclusive \n",
    "    #OBO out by one (so add to the range by one)\n",
    "    temp = n\n",
    "    temp1 = n * n \n",
    "    temp2 = n * n * n\n",
    "    print(temp,temp1,temp2)"
   ]
  },
  {
   "cell_type": "code",
   "execution_count": null,
   "metadata": {},
   "outputs": [],
   "source": [
    "p = 0\n",
    "a = 1\n",
    "for n in range(3,21):  # very confused\n",
    "    print(\"n = \"f'{n}')\n",
    "    n = (n + p) / a\n",
    "    print(\"p = \"f'{p}')\n",
    "    p = p + n\n",
    "    print(\"p after  = \"f'{p}')\n",
    "    print(\"a = \"f'{a}')\n",
    "    a = a + 1\n",
    "    \n",
    "    print(\"answer = \" f\"{n}\")"
   ]
  },
  {
   "cell_type": "code",
   "execution_count": null,
   "metadata": {},
   "outputs": [],
   "source": [
    "sum = 0\n",
    "np = 0 \n",
    "for n in range(3,21):\n",
    "    sum += n\n",
    "    np += 1\n",
    "    mean = sum/np\n",
    "    print(mean)"
   ]
  },
  {
   "cell_type": "code",
   "execution_count": null,
   "metadata": {},
   "outputs": [],
   "source": [
    "#nested fpr loops and formats\n",
    "\n",
    "for line in range(11):\n",
    "    for star in range (line + 1):\n",
    "        print('*',end=' ') # seems like n just puts what ever is in end at the end\n",
    "    print()"
   ]
  },
  {
   "cell_type": "code",
   "execution_count": null,
   "metadata": {},
   "outputs": [],
   "source": [
    "import matplotlib.pyplot as plt\n",
    "def list_test():\n",
    "    hour = [9.25, 11, 13.5, 15, 15.75]\n",
    "    power = [2.54, 4.1, 1.21, 3.9, 4]\n",
    "    plt.plot(hour, power)\n",
    "    #plt.plot(power, hour)\n",
    "    plt.xlabel('Decimal Hour in Day')\n",
    "    plt.ylabel('Power (mW)')\n",
    "    plt.title(\"Power versus Time\")\n"
   ]
  },
  {
   "cell_type": "code",
   "execution_count": null,
   "metadata": {},
   "outputs": [],
   "source": [
    "name = input(\"what name?\")\n",
    "\n",
    "if name == \"\":\n",
    "    print(\"error\")\n",
    "try:\n",
    "    file = open(name)\n",
    "except:\n",
    "    \n",
    "else:\n",
    "    print(\"good\")"
   ]
  },
  {
   "cell_type": "code",
   "execution_count": null,
   "metadata": {},
   "outputs": [],
   "source": [
    "e - [3,1,24,4]\n"
   ]
  },
  {
   "cell_type": "code",
   "execution_count": 2,
   "metadata": {},
   "outputs": [
    {
     "name": "stdout",
     "output_type": "stream",
     "text": [
      "16.695\n"
     ]
    }
   ],
   "source": [
    "g = 3.71\n",
    "t = 3\n",
    "h = 0.5 * g * t ** 2\n",
    "print(h)"
   ]
  },
  {
   "cell_type": "code",
   "execution_count": 5,
   "metadata": {},
   "outputs": [
    {
     "name": "stdout",
     "output_type": "stream",
     "text": [
      "8.2\n"
     ]
    }
   ],
   "source": [
    "def m2f(meter):\n",
    "    feet = meter * 3.28 # 3.28 feet in 1 meter\n",
    "    print(feet)\n",
    "\n",
    "m2f(2.5)\n"
   ]
  },
  {
   "cell_type": "code",
   "execution_count": 6,
   "metadata": {},
   "outputs": [
    {
     "name": "stdout",
     "output_type": "stream",
     "text": [
      "90000000000000.0\n"
     ]
    }
   ],
   "source": [
    "def E(m,c):\n",
    "    return(m*(c**2))\n",
    "\n",
    "print(E(0.001,3e8))"
   ]
  },
  {
   "cell_type": "code",
   "execution_count": 7,
   "metadata": {},
   "outputs": [
    {
     "data": {
      "text/plain": [
       "'231'"
      ]
     },
     "execution_count": 7,
     "metadata": {},
     "output_type": "execute_result"
    }
   ],
   "source": [
    "def middle3(str):\n",
    "    leng = len(str)\n",
    "    if leng < 3:\n",
    "        return(\"string too short\")\n",
    "    elif leng % 2 == 0:\n",
    "        return(\"it is even\")\n",
    "    else:\n",
    "        mid = leng // 2\n",
    "        return(str[mid - 1: mid + 2])\n",
    "    \n",
    "middle3(\"12312314124\")\n",
    "    "
   ]
  }
 ],
 "metadata": {
  "kernelspec": {
   "display_name": "Python 3",
   "language": "python",
   "name": "python3"
  },
  "language_info": {
   "codemirror_mode": {
    "name": "ipython",
    "version": 3
   },
   "file_extension": ".py",
   "mimetype": "text/x-python",
   "name": "python",
   "nbconvert_exporter": "python",
   "pygments_lexer": "ipython3",
   "version": "3.9.6"
  }
 },
 "nbformat": 4,
 "nbformat_minor": 2
}
